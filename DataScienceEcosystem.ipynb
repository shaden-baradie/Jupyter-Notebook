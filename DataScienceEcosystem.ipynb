{
 "cells": [
  {
   "cell_type": "markdown",
   "id": "8da2b2f5-520b-40ef-8f6e-aeb0f1c96e63",
   "metadata": {},
   "source": [
    "# Data Science Tools and Ecosystem"
   ]
  },
  {
   "cell_type": "markdown",
   "id": "71efb90d-80c9-4418-be31-f940933e9a38",
   "metadata": {},
   "source": [
    "In this notebook, Data Science Tools and Ecosystem are summarized."
   ]
  },
  {
   "cell_type": "markdown",
   "id": "1fced3ef-8852-4648-b02c-344a2359f0d4",
   "metadata": {},
   "source": [
    "Objectives:\n",
    "- List popular languages for data science\n",
    "- List popular libraries for data science\n",
    "- create tables and lists"
   ]
  },
  {
   "cell_type": "markdown",
   "id": "e0eb7348-5738-414d-9783-daf9cb2e9eb1",
   "metadata": {
    "tags": []
   },
   "source": [
    "Some of the popular languages that Data Scientists use are:\n",
    "1. Python\n",
    "2. R\n",
    "3. SQL"
   ]
  },
  {
   "cell_type": "markdown",
   "id": "5f880233-0bd2-4db2-b04f-718718c409ce",
   "metadata": {},
   "source": [
    "Some of the popular libraries that Data Scientists use are:\n",
    "- Pandas\n",
    "- Matplotlib\n",
    "- numpy"
   ]
  },
  {
   "cell_type": "markdown",
   "id": "28306536-2e15-4603-980a-ab7cd25111ea",
   "metadata": {},
   "source": [
    "|Data Science Tools|\n",
    "|:-----------------:|\n",
    "| RStudio |\n",
    "| Spyder |\n",
    "| ApacheSpark |"
   ]
  },
  {
   "cell_type": "markdown",
   "id": "6e462b15-f225-430d-b035-5d4a8d0769e8",
   "metadata": {},
   "source": [
    "### Below are a few examples of evaluating arithmetic expressions in Python\n",
    "<, =, +"
   ]
  },
  {
   "cell_type": "code",
   "execution_count": 2,
   "id": "f27fbd03-1e4d-4567-954f-1a033eb51de9",
   "metadata": {
    "tags": []
   },
   "outputs": [
    {
     "data": {
      "text/plain": [
       "17"
      ]
     },
     "execution_count": 2,
     "metadata": {},
     "output_type": "execute_result"
    }
   ],
   "source": [
    "# This a simple arithmetic expression to mutiply then add integers \n",
    "(3*4)+5"
   ]
  },
  {
   "cell_type": "code",
   "execution_count": 3,
   "id": "5c70aaf2-371b-4ec8-a783-216aa22cbdfa",
   "metadata": {
    "tags": []
   },
   "outputs": [
    {
     "data": {
      "text/plain": [
       "3.3333333333333335"
      ]
     },
     "execution_count": 3,
     "metadata": {},
     "output_type": "execute_result"
    }
   ],
   "source": [
    "# This will convert 200 minutes to hours by diving by 60\n",
    "200/60"
   ]
  },
  {
   "cell_type": "markdown",
   "id": "acac4196-163a-4823-82cb-deb7c704ba3d",
   "metadata": {},
   "source": [
    "## Author\n",
    "Shaden"
   ]
  },
  {
   "cell_type": "code",
   "execution_count": null,
   "id": "5da541b5-abfc-48d2-ab49-4d39732322c5",
   "metadata": {},
   "outputs": [],
   "source": []
  }
 ],
 "metadata": {
  "kernelspec": {
   "display_name": "Python",
   "language": "python",
   "name": "conda-env-python-py"
  },
  "language_info": {
   "codemirror_mode": {
    "name": "ipython",
    "version": 3
   },
   "file_extension": ".py",
   "mimetype": "text/x-python",
   "name": "python",
   "nbconvert_exporter": "python",
   "pygments_lexer": "ipython3",
   "version": "3.7.12"
  }
 },
 "nbformat": 4,
 "nbformat_minor": 5
}
